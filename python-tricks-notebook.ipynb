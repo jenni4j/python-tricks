{
 "cells": [
  {
   "cell_type": "markdown",
   "id": "2f92246d",
   "metadata": {},
   "source": [
    "## Useful Python Tidbits"
   ]
  },
  {
   "cell_type": "markdown",
   "id": "f4ac27ba",
   "metadata": {},
   "source": [
    "### List Comprehension"
   ]
  },
  {
   "cell_type": "code",
   "execution_count": 1,
   "id": "e6a24895",
   "metadata": {},
   "outputs": [
    {
     "name": "stdout",
     "output_type": "stream",
     "text": [
      "[1, 4, 9, 16, 25]\n"
     ]
    }
   ],
   "source": [
    "nums = [1, 2, 3, 4, 5]\n",
    "squared_nums = [x * x for x in nums]\n",
    "print(squared_nums)"
   ]
  },
  {
   "cell_type": "markdown",
   "id": "871765f8",
   "metadata": {},
   "source": [
    "### Lambda"
   ]
  },
  {
   "cell_type": "code",
   "execution_count": 5,
   "id": "45f865fc",
   "metadata": {},
   "outputs": [],
   "source": [
    "def cubed_fn(x):\n",
    "    return x * x * x\n",
    "\n",
    "cubed_lambda = lambda x: x * x * x\n",
    "\n",
    "for i in range(5):\n",
    "    assert cubed_fn(i) == cubed_lambda(i)"
   ]
  },
  {
   "cell_type": "markdown",
   "id": "b737a070",
   "metadata": {},
   "source": [
    "### Map"
   ]
  },
  {
   "cell_type": "code",
   "execution_count": 7,
   "id": "7ccb9d0c",
   "metadata": {},
   "outputs": [
    {
     "name": "stdout",
     "output_type": "stream",
     "text": [
      "[1, 8, 27, 64, 125]\n"
     ]
    }
   ],
   "source": [
    "nums_cubed_1 = map(cubed_fn, nums)\n",
    "nums_cubed_2 = map(lambda x: x * x * x, nums)\n",
    "print(list(nums_cubed_2))\n",
    "# note you can use map with more than one iterable, just add ','"
   ]
  },
  {
   "cell_type": "markdown",
   "id": "4e05be1a",
   "metadata": {},
   "source": [
    "### Filter"
   ]
  },
  {
   "cell_type": "code",
   "execution_count": 9,
   "id": "359a3c7f",
   "metadata": {},
   "outputs": [
    {
     "name": "stdout",
     "output_type": "stream",
     "text": [
      "[5]\n"
     ]
    }
   ],
   "source": [
    "print(list(filter(lambda x: x > 4, nums)))"
   ]
  },
  {
   "cell_type": "markdown",
   "id": "a493c1f0",
   "metadata": {},
   "source": [
    "### Reduce"
   ]
  },
  {
   "cell_type": "code",
   "execution_count": 10,
   "id": "fbee7cc9",
   "metadata": {},
   "outputs": [
    {
     "name": "stdout",
     "output_type": "stream",
     "text": [
      "120\n"
     ]
    }
   ],
   "source": [
    "from functools import reduce\n",
    "print(reduce(lambda x, y: x * y, nums))"
   ]
  },
  {
   "cell_type": "markdown",
   "id": "c2d51d7c",
   "metadata": {},
   "source": [
    "### List Manipulation"
   ]
  },
  {
   "cell_type": "markdown",
   "id": "5a221ae4",
   "metadata": {},
   "source": [
    "#### Unpacking"
   ]
  },
  {
   "cell_type": "code",
   "execution_count": 29,
   "id": "f60d018b",
   "metadata": {},
   "outputs": [
    {
     "name": "stdout",
     "output_type": "stream",
     "text": [
      "1 2 3 4\n"
     ]
    }
   ],
   "source": [
    "items = [1, 2, 3, 4]\n",
    "a, b, c, d = items\n",
    "print(a, b, c, d)"
   ]
  },
  {
   "cell_type": "markdown",
   "id": "88471515",
   "metadata": {},
   "source": [
    "#### Slicing"
   ]
  },
  {
   "cell_type": "code",
   "execution_count": 12,
   "id": "b38d21cd",
   "metadata": {},
   "outputs": [
    {
     "name": "stdout",
     "output_type": "stream",
     "text": [
      "[4, 3, 2, 1]\n"
     ]
    }
   ],
   "source": [
    "# reverse a list\n",
    "print(items[::-1])\n",
    "\n",
    "# [x:y:z] -> take every zth element of a list from index x to index y\n",
    "# negative means going backwards\n",
    "# can also use to delete elements"
   ]
  },
  {
   "cell_type": "markdown",
   "id": "33d8d5fc",
   "metadata": {},
   "source": [
    "#### Insertion"
   ]
  },
  {
   "cell_type": "code",
   "execution_count": 30,
   "id": "297a15e0",
   "metadata": {},
   "outputs": [
    {
     "name": "stdout",
     "output_type": "stream",
     "text": [
      "[1, 20, 30, 40, 2, 3, 4]\n"
     ]
    }
   ],
   "source": [
    "items[1:1] = [20, 30, 40]\n",
    "print(items)"
   ]
  },
  {
   "cell_type": "markdown",
   "id": "2a19a8fa",
   "metadata": {},
   "source": [
    "#### Flatten"
   ]
  },
  {
   "cell_type": "code",
   "execution_count": 32,
   "id": "2ddcce3c",
   "metadata": {},
   "outputs": [
    {
     "name": "stdout",
     "output_type": "stream",
     "text": [
      "[1, 2, 3, 4, 5, 6]\n"
     ]
    }
   ],
   "source": [
    "# using sum\n",
    "list_of_items = [[1], [2, 3], [4, 5, 6]]\n",
    "print(sum(list_of_items, []))"
   ]
  },
  {
   "cell_type": "code",
   "execution_count": 35,
   "id": "55383760",
   "metadata": {},
   "outputs": [
    {
     "data": {
      "text/plain": [
       "[1, 2, 3, 4, 5, 6, 7, 8, 9, 10, 11, 12, 13]"
      ]
     },
     "execution_count": 35,
     "metadata": {},
     "output_type": "execute_result"
    }
   ],
   "source": [
    "# nested lists\n",
    "nested_lists = [[1, 2], [[3, 4], [5, 6], [[7, 8], [9, 10], [[11, [12, 13]]]]]]\n",
    "flatten = lambda x: [y for l in x for y in flatten(l)] if type(x) is list else [x]\n",
    "flatten(nested_lists)"
   ]
  },
  {
   "cell_type": "markdown",
   "id": "80fbb4b4",
   "metadata": {},
   "source": [
    "### List vs Generator"
   ]
  },
  {
   "cell_type": "code",
   "execution_count": 37,
   "id": "eb49e34e",
   "metadata": {},
   "outputs": [
    {
     "name": "stdout",
     "output_type": "stream",
     "text": [
      "['i', 'want']\n",
      "['want', 'to']\n",
      "['to', 'go']\n",
      "['go', 'to']\n",
      "['to', 'school']\n"
     ]
    }
   ],
   "source": [
    "# memory requirement for lists vs generators are much higher\n",
    "\n",
    "tokens = ['i', 'want', 'to', 'go', 'to', 'school']\n",
    "\n",
    "def ngrams(tokens, n):\n",
    "    length = len(tokens)\n",
    "    for i in range(length - n + 1):\n",
    "        yield tokens[i:i + n]\n",
    "        # grams.append(tokens[i:i+n])\n",
    "\n",
    "ngrams_generator = ngrams(tokens, 2)\n",
    "for ngram in ngrams_generator:\n",
    "    print(ngram)\n",
    "    # option to also use zip"
   ]
  },
  {
   "cell_type": "markdown",
   "id": "f053f5d4",
   "metadata": {},
   "source": [
    "### Classes & Magic Methods"
   ]
  },
  {
   "cell_type": "code",
   "execution_count": 1,
   "id": "d3ef7d97",
   "metadata": {},
   "outputs": [],
   "source": [
    "# magic methods are prefixed and suffixed with double underscore: https://www.tutorialsteacher.com/python/magic-methods-in-python\n",
    "\n",
    "class Node:\n",
    "    \"\"\" A struct to denote the node of a binary tree.\n",
    "    It contains a value and pointers to left and right children.\n",
    "    \"\"\"\n",
    "    def __init__(self, value, left=None, right=None):\n",
    "        self.value = value\n",
    "        self.left = left\n",
    "        self.right = right\n",
    "        \n",
    "# We'd also like to compare two nodes by comparing their values. To do so, we overload the operator == with __eq__, < with __lt__, and >= with __ge__."
   ]
  },
  {
   "cell_type": "markdown",
   "id": "9cedacc6",
   "metadata": {},
   "source": [
    "### Local namespace & object attributes"
   ]
  },
  {
   "cell_type": "code",
   "execution_count": 2,
   "id": "9711943f",
   "metadata": {},
   "outputs": [
    {
     "name": "stdout",
     "output_type": "stream",
     "text": [
      "{'self': <__main__.Model1 object at 0x7fc8b9e436d0>, 'hidden_size': 100, 'num_layers': 3, 'learning_rate': 0.0003}\n"
     ]
    }
   ],
   "source": [
    "# locals() function returns a dictionary containing the variables defined in the local namespace\n",
    "\n",
    "class Model1:\n",
    "    def __init__(self, hidden_size=100, num_layers=3, learning_rate=3e-4):\n",
    "        print(locals())\n",
    "        self.hidden_size = hidden_size\n",
    "        self.num_layers = num_layers\n",
    "        self.learning_rate = learning_rate\n",
    "\n",
    "model1 = Model1()"
   ]
  },
  {
   "cell_type": "code",
   "execution_count": 3,
   "id": "efd0fa01",
   "metadata": {},
   "outputs": [
    {
     "data": {
      "text/plain": [
       "{'hidden_size': 100, 'num_layers': 3, 'learning_rate': 0.0003}"
      ]
     },
     "execution_count": 3,
     "metadata": {},
     "output_type": "execute_result"
    }
   ],
   "source": [
    "# all attributes of an object are stored in its __dict__\n",
    "model1.__dict__"
   ]
  },
  {
   "cell_type": "code",
   "execution_count": 7,
   "id": "4473a157",
   "metadata": {},
   "outputs": [
    {
     "data": {
      "text/plain": [
       "{'hidden_size': 100, 'num_layers': 3, 'learning_rate': 0.0003}"
      ]
     },
     "execution_count": 7,
     "metadata": {},
     "output_type": "execute_result"
    }
   ],
   "source": [
    "# can get around manually assigning each argument to an attribute by assigning\n",
    "# list of arguments to the object's __dict__\n",
    "\n",
    "class Model2:\n",
    "    def __init__(self, hidden_size=100, num_layers=3, learning_rate=3e-4):\n",
    "        params = locals()\n",
    "        del params['self']\n",
    "        self.__dict__ = params\n",
    "\n",
    "model2 = Model2()\n",
    "model2.__dict__"
   ]
  },
  {
   "cell_type": "code",
   "execution_count": 9,
   "id": "ff1b74ef",
   "metadata": {},
   "outputs": [
    {
     "data": {
      "text/plain": [
       "{'hidden_size': 100, 'num_layers': 3, 'learning_rate': 0.0003}"
      ]
     },
     "execution_count": 9,
     "metadata": {},
     "output_type": "execute_result"
    }
   ],
   "source": [
    "# also useful when object is initiated using a catch-all **kwargs\n",
    "\n",
    "class Model3:\n",
    "    def __init__(self, **kwargs):\n",
    "        self.__dict__ = kwargs\n",
    "\n",
    "model3 = Model3(hidden_size=100, num_layers=3, learning_rate=3e-4)\n",
    "model3.__dict__"
   ]
  },
  {
   "cell_type": "markdown",
   "id": "58828748",
   "metadata": {},
   "source": [
    "### Wildcard import"
   ]
  },
  {
   "cell_type": "code",
   "execution_count": 10,
   "id": "f55ccb1b",
   "metadata": {},
   "outputs": [],
   "source": [
    "# can specify what parts of a file will be imported with a wildcard (*)\n",
    "# by using _all__ at the top of the file\n",
    "\n",
    "# example at the top of parts.py \n",
    "\n",
    "_all__ = ['Encoder', 'Decoder', 'Loss']"
   ]
  },
  {
   "cell_type": "markdown",
   "id": "ab0a3484",
   "metadata": {},
   "source": [
    "### Timing Functions"
   ]
  },
  {
   "cell_type": "code",
   "execution_count": 11,
   "id": "f5122e0d",
   "metadata": {},
   "outputs": [],
   "source": [
    "# one way is to call time.time() at the beginning and end of each function\n",
    "# print the difference"
   ]
  },
  {
   "cell_type": "code",
   "execution_count": 16,
   "id": "63c8839d",
   "metadata": {},
   "outputs": [],
   "source": [
    "# can also create a decorator called timeit to change the behavior of a function or class\n",
    "\n",
    "import time\n",
    "\n",
    "def timeit(fn):\n",
    "    def get_time(*args, **kwargs):\n",
    "        start = time.time()\n",
    "        output = fn(*args, **kwargs)\n",
    "        print(f\"Time taken in {fn.__name__}: {time.time() - start:.7f}\")\n",
    "        return output\n",
    "    return get_time"
   ]
  },
  {
   "cell_type": "code",
   "execution_count": 17,
   "id": "9ca6235c",
   "metadata": {},
   "outputs": [],
   "source": [
    "def fib_helper(n):\n",
    "    if n < 2:\n",
    "        return n\n",
    "    return fib_helper(n - 1) + fib_helper(n - 2)\n",
    "\n",
    "def fib(n):\n",
    "    \"\"\" fib is a wrapper function so that later we can change its behavior\n",
    "    at the top level without affecting the behavior at every recursion step.\n",
    "    \"\"\"\n",
    "    return fib_helper(n)\n",
    "\n",
    "@timeit\n",
    "def fib(n):\n",
    "    return fib_helper(n)"
   ]
  },
  {
   "cell_type": "code",
   "execution_count": 18,
   "id": "df72a25b",
   "metadata": {},
   "outputs": [
    {
     "name": "stdout",
     "output_type": "stream",
     "text": [
      "Time taken in fib: 0.2667463\n"
     ]
    },
    {
     "data": {
      "text/plain": [
       "832040"
      ]
     },
     "execution_count": 18,
     "metadata": {},
     "output_type": "execute_result"
    }
   ],
   "source": [
    "fib(30)"
   ]
  },
  {
   "cell_type": "markdown",
   "id": "01b78ffa",
   "metadata": {},
   "source": [
    "### Caching"
   ]
  },
  {
   "cell_type": "code",
   "execution_count": 19,
   "id": "4f774422",
   "metadata": {},
   "outputs": [],
   "source": [
    "# can add decorator lru_cache from functools (last recently used)\n",
    "# to give function caching capacity\n",
    "\n",
    "import functools\n",
    "@functools.lru_cache()\n",
    "\n",
    "def fib_helper(n):\n",
    "    if n < 2:\n",
    "        return n\n",
    "    return fib_helper(n - 1) + fib_helper(n - 2)"
   ]
  },
  {
   "cell_type": "markdown",
   "id": "0e6b291f",
   "metadata": {},
   "source": [
    "### Debugging"
   ]
  },
  {
   "cell_type": "code",
   "execution_count": null,
   "id": "1729da21",
   "metadata": {},
   "outputs": [],
   "source": [
    "import code\n",
    "code.interact(local=locals())\n",
    "\n",
    "# alternative more complex\n",
    "import pdb\n",
    "pdb.set_trace()"
   ]
  }
 ],
 "metadata": {
  "kernelspec": {
   "display_name": "Python 3 (ipykernel)",
   "language": "python",
   "name": "python3"
  },
  "language_info": {
   "codemirror_mode": {
    "name": "ipython",
    "version": 3
   },
   "file_extension": ".py",
   "mimetype": "text/x-python",
   "name": "python",
   "nbconvert_exporter": "python",
   "pygments_lexer": "ipython3",
   "version": "3.9.12"
  }
 },
 "nbformat": 4,
 "nbformat_minor": 5
}
